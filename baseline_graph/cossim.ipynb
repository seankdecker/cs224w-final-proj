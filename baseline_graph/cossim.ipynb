{
 "cells": [
  {
   "cell_type": "code",
   "execution_count": 1,
   "metadata": {},
   "outputs": [],
   "source": [
    "import snap\n",
    "import numpy as np\n",
    "import matplotlib.pyplot as plt\n",
    "import os\n",
    "import sys\n",
    "import pandas as pd  # To read data\n",
    "from math import log\n",
    "\n",
    "import csv\n",
    "import webbrowser\n",
    "\n",
    "import networkx as nx"
   ]
  },
  {
   "cell_type": "code",
   "execution_count": 5,
   "metadata": {},
   "outputs": [
    {
     "name": "stdout",
     "output_type": "stream",
     "text": [
      "[16257, 1447, 52191, 27791, 39934, 25436, 31876, 41123, 34501, 41538, 42638, 8098, 49404, 12381, 19964, 40514, 48848, 4998, 23361, 30388, 10639, 48464, 36737, 50113, 2251, 22341, 19798, 7979, 28597, 39184, 706, 30658, 18289, 50375, 30635, 19959, 28280, 1750, 4092, 17489, 48635, 15937, 17139, 34508, 53780, 20211, 4846, 12425, 2450, 39397, 44250, 24457, 34965, 38469, 39330, 40220, 49403, 17559, 14380, 37508, 50099, 14423, 13181, 48463, 27447, 41491, 51445, 4663, 51099, 19736, 51977, 46231, 50002, 3371, 26994, 13862, 23030, 20653, 9347, 52672, 47900, 16302, 31157, 12216, 5518, 41384, 12194, 12355, 22006, 11176, 34642, 12494, 32017, 5526, 50012, 25122, 39249, 27251, 26578, 38595, 49143, 38877, 32407, 2219, 15035, 14696, 3735, 14905, 9764, 23551, 12719, 25911, 28359, 49717, 1103, 40515, 42892, 18272, 53330, 7128, 17178, 36987, 11435, 29425, 29652]\n",
      "number of nodes in random subgraph:  300\n"
     ]
    }
   ],
   "source": [
    "from load_datasets import load_banned\n",
    "from load_datasets import load_graph\n",
    "from load_datasets import get_banned_ids, banned_sub_in_G, get_random_subgraph\n",
    "import random\n",
    "\n",
    "DATASET = 'title' \n",
    "\n",
    "# lists of strings, which are the names of banned subreddits to train and test on\n",
    "TESTING, TRAINING = [], []\n",
    "\n",
    "if __name__ == '__main__':\n",
    "  # load graph and maps that are used to map ids (int) to subreddit names (str)\n",
    "  G, id_to_subreddit, subreddit_to_id = load_graph(DATASET)\n",
    "  # load banned subreddits [str]\n",
    "  banned = load_banned()\n",
    "  # get banned subreddits that appear in G\n",
    "  banned = banned_sub_in_G(G, id_to_subreddit, banned)\n",
    "  # get list of random sample of banned subreddits to train on. \n",
    "  TRAINING = random.sample(banned, int(len(banned) * 3 / 4))\n",
    "  # rest of subreddits are for testing.\n",
    "  TESTING = list(set(banned) - set(TRAINING))\n",
    "  # generate subgraph of G\n",
    "  a = get_banned_ids(TRAINING, subreddit_to_id)\n",
    "  print(a)\n",
    "  G_new = get_random_subgraph(G, a)\n",
    "  print('number of nodes in random subgraph: ', G_new.GetNodes())"
   ]
  },
  {
   "cell_type": "code",
   "execution_count": 6,
   "metadata": {},
   "outputs": [],
   "source": [
    "#HOW TO ACTUALLY VISUALIZE THE NETWORK???\n",
    "actual = snap.TIntStrH()\n",
    "for NI in G_new.Nodes():\n",
    "    actual[NI.GetId()]= str(NI.GetId())\n",
    "snap.DrawGViz(G_new, snap.gvlDot, \"output.png\", \"\", actual)"
   ]
  },
  {
   "cell_type": "code",
   "execution_count": 13,
   "metadata": {},
   "outputs": [
    {
     "name": "stdout",
     "output_type": "stream",
     "text": [
      "banned subreddit id:  41538\n",
      "Feature Vector [0, 0, 0]\n",
      "[(30720, 0), (23552, 0), (22023, 0), (35338, 0), (523, 0)]\n",
      "banned subreddit id:  12381\n",
      "Feature Vector [1, 0, 1]\n",
      "[(538, 0.9999999999999998), (4644, 0.9999999999999998), (12381, 0.9999999999999998), (11413, 0.9999999999999998), (27838, 0.9999999999999998)]\n",
      "banned subreddit id:  50113\n",
      "Feature Vector [0, 0, 0]\n",
      "[(30720, 0), (23552, 0), (22023, 0), (35338, 0), (523, 0)]\n",
      "banned subreddit id:  19959\n",
      "Feature Vector [0, 0, 0]\n",
      "[(30720, 0), (23552, 0), (22023, 0), (35338, 0), (523, 0)]\n",
      "banned subreddit id:  13181\n",
      "Feature Vector [0, 0, 0]\n",
      "[(30720, 0), (23552, 0), (22023, 0), (35338, 0), (523, 0)]\n",
      "banned subreddit id:  3371\n",
      "Feature Vector [0, 0, 0]\n",
      "[(30720, 0), (23552, 0), (22023, 0), (35338, 0), (523, 0)]\n",
      "banned subreddit id:  12719\n",
      "Feature Vector [0, 0, 0]\n",
      "[(30720, 0), (23552, 0), (22023, 0), (35338, 0), (523, 0)]\n",
      "banned subreddit id:  28359\n",
      "Feature Vector [0, 0, 0]\n",
      "[(30720, 0), (23552, 0), (22023, 0), (35338, 0), (523, 0)]\n",
      "banned subreddit id:  7128\n",
      "Feature Vector [0, 0, 0]\n",
      "[(30720, 0), (23552, 0), (22023, 0), (35338, 0), (523, 0)]\n",
      "banned subreddit id:  17178\n",
      "Feature Vector [0, 0, 0]\n",
      "[(30720, 0), (23552, 0), (22023, 0), (35338, 0), (523, 0)]\n"
     ]
    }
   ],
   "source": [
    "def getNeighbors(i):\n",
    "    NIdVIn = snap.TIntV()\n",
    "    NIdVIn.Add(i.GetId())\n",
    "    for j in i.GetOutEdges():\n",
    "        NIdVIn.Add(j) \n",
    "    return NIdVIn\n",
    "\n",
    "def cosSim(dictionary, idx):\n",
    "    a = dictionary[idx]\n",
    "    print(\"Feature Vector\",a)\n",
    "    simDict = {}\n",
    "    for i in dictionary.keys():\n",
    "        if i != 9:\n",
    "            b = dictionary[i] \n",
    "            dot = np.dot(a, b)\n",
    "            norma = np.linalg.norm(a)\n",
    "            normb = np.linalg.norm(b)\n",
    "            if norma != 0 and normb != 0:\n",
    "                cos = dot / (norma * normb)\n",
    "            else:\n",
    "                cos = 0\n",
    "            simDict.update({i: cos})\n",
    "            \n",
    "    return list(sorted(simDict.items(), key=lambda item: item[1], reverse = True))\n",
    "    \n",
    "dictionary ={}\n",
    "for i in G_new.Nodes():\n",
    "    nodeDeg = i.GetDeg() \n",
    "    G2 = snap.GetSubGraph(G_new, getNeighbors(i))\n",
    "    numEdgesInEgoNet = G2.GetEdges()\n",
    "    numberEdgesSurround = 0\n",
    "    for j in G_new.Nodes():\n",
    "        for k in G2.Nodes():\n",
    "            if j!=k and G_new.IsEdge(j.GetId(),k.GetId()) and not G2.IsEdge(j.GetId(),k.GetId()):\n",
    "                numberEdgesSurround += 1 \n",
    "    dictionary.update({i.GetId():[nodeDeg,numEdgesInEgoNet, numberEdgesSurround]}) \n",
    "# print(dictionary)\n",
    "#ID of boners = 41491 - banned subreddit\n",
    "exampleid = -1\n",
    "for i in a:\n",
    "    if i in dictionary:\n",
    "        exampleid = i\n",
    "        print(\"banned subreddit id: \", i)\n",
    "        print(cosSim(dictionary, i)[0:5])"
   ]
  },
  {
   "cell_type": "code",
   "execution_count": 14,
   "metadata": {},
   "outputs": [],
   "source": [
    "#once dictionary is built, no need to rerun\n",
    "#can just change the index of the below code to find cosSim of new node\n",
    "#print(cosSim(dictionary, 41491)[0:5])"
   ]
  },
  {
   "cell_type": "code",
   "execution_count": 15,
   "metadata": {},
   "outputs": [
    {
     "name": "stdout",
     "output_type": "stream",
     "text": [
      "banned subreddit id:  41538\n",
      "Feature Vector [0, 0, 0, 0, 0, 0, 0, 0, 0, 0, 0, 0, 0, 0, 0, 0, 0, 0, 0, 0, 0, 0, 0, 0, 0, 0, 0]\n",
      "Feature Vector [0, 0, 0, 0, 0, 0, 0, 0, 0, 0, 0, 0, 0, 0, 0, 0, 0, 0, 0, 0, 0, 0, 0, 0, 0, 0, 0]\n",
      "[(30720, 0), (23552, 0), (22023, 0), (35338, 0), (523, 0)]\n",
      "banned subreddit id:  12381\n",
      "Feature Vector [1, 0, 1, 0, 0, 0, 0, 0, 0, 0, 0, 0, 0, 0, 0, 0, 0, 0, 0, 0, 0, 0, 0, 0, 0, 0, 0]\n",
      "Feature Vector [1, 0, 1, 0, 0, 0, 0, 0, 0, 0, 0, 0, 0, 0, 0, 0, 0, 0, 0, 0, 0, 0, 0, 0, 0, 0, 0]\n",
      "[(538, 0.9999999999999998), (4644, 0.9999999999999998), (12381, 0.9999999999999998), (11413, 0.9999999999999998), (27838, 0.9999999999999998)]\n",
      "banned subreddit id:  50113\n",
      "Feature Vector [0, 0, 0, 0, 0, 0, 0, 0, 0, 0, 0, 0, 0, 0, 0, 0, 0, 0, 0, 0, 0, 0, 0, 0, 0, 0, 0]\n",
      "Feature Vector [0, 0, 0, 0, 0, 0, 0, 0, 0, 0, 0, 0, 0, 0, 0, 0, 0, 0, 0, 0, 0, 0, 0, 0, 0, 0, 0]\n",
      "[(30720, 0), (23552, 0), (22023, 0), (35338, 0), (523, 0)]\n",
      "banned subreddit id:  19959\n",
      "Feature Vector [0, 0, 0, 0, 0, 0, 0, 0, 0, 0, 0, 0, 0, 0, 0, 0, 0, 0, 0, 0, 0, 0, 0, 0, 0, 0, 0]\n",
      "Feature Vector [0, 0, 0, 0, 0, 0, 0, 0, 0, 0, 0, 0, 0, 0, 0, 0, 0, 0, 0, 0, 0, 0, 0, 0, 0, 0, 0]\n",
      "[(30720, 0), (23552, 0), (22023, 0), (35338, 0), (523, 0)]\n",
      "banned subreddit id:  13181\n",
      "Feature Vector [0, 0, 0, 0, 0, 0, 0, 0, 0, 0, 0, 0, 0, 0, 0, 0, 0, 0, 0, 0, 0, 0, 0, 0, 0, 0, 0]\n",
      "Feature Vector [0, 0, 0, 0, 0, 0, 0, 0, 0, 0, 0, 0, 0, 0, 0, 0, 0, 0, 0, 0, 0, 0, 0, 0, 0, 0, 0]\n",
      "[(30720, 0), (23552, 0), (22023, 0), (35338, 0), (523, 0)]\n",
      "banned subreddit id:  3371\n",
      "Feature Vector [0, 0, 0, 0, 0, 0, 0, 0, 0, 0, 0, 0, 0, 0, 0, 0, 0, 0, 0, 0, 0, 0, 0, 0, 0, 0, 0]\n",
      "Feature Vector [0, 0, 0, 0, 0, 0, 0, 0, 0, 0, 0, 0, 0, 0, 0, 0, 0, 0, 0, 0, 0, 0, 0, 0, 0, 0, 0]\n",
      "[(30720, 0), (23552, 0), (22023, 0), (35338, 0), (523, 0)]\n",
      "banned subreddit id:  12719\n",
      "Feature Vector [0, 0, 0, 0, 0, 0, 0, 0, 0, 0, 0, 0, 0, 0, 0, 0, 0, 0, 0, 0, 0, 0, 0, 0, 0, 0, 0]\n",
      "Feature Vector [0, 0, 0, 0, 0, 0, 0, 0, 0, 0, 0, 0, 0, 0, 0, 0, 0, 0, 0, 0, 0, 0, 0, 0, 0, 0, 0]\n",
      "[(30720, 0), (23552, 0), (22023, 0), (35338, 0), (523, 0)]\n",
      "banned subreddit id:  28359\n",
      "Feature Vector [0, 0, 0, 0, 0, 0, 0, 0, 0, 0, 0, 0, 0, 0, 0, 0, 0, 0, 0, 0, 0, 0, 0, 0, 0, 0, 0]\n",
      "Feature Vector [0, 0, 0, 0, 0, 0, 0, 0, 0, 0, 0, 0, 0, 0, 0, 0, 0, 0, 0, 0, 0, 0, 0, 0, 0, 0, 0]\n",
      "[(30720, 0), (23552, 0), (22023, 0), (35338, 0), (523, 0)]\n",
      "banned subreddit id:  7128\n",
      "Feature Vector [0, 0, 0, 0, 0, 0, 0, 0, 0, 0, 0, 0, 0, 0, 0, 0, 0, 0, 0, 0, 0, 0, 0, 0, 0, 0, 0]\n",
      "Feature Vector [0, 0, 0, 0, 0, 0, 0, 0, 0, 0, 0, 0, 0, 0, 0, 0, 0, 0, 0, 0, 0, 0, 0, 0, 0, 0, 0]\n",
      "[(30720, 0), (23552, 0), (22023, 0), (35338, 0), (523, 0)]\n",
      "banned subreddit id:  17178\n",
      "Feature Vector [0, 0, 0, 0, 0, 0, 0, 0, 0, 0, 0, 0, 0, 0, 0, 0, 0, 0, 0, 0, 0, 0, 0, 0, 0, 0, 0]\n",
      "Feature Vector [0, 0, 0, 0, 0, 0, 0, 0, 0, 0, 0, 0, 0, 0, 0, 0, 0, 0, 0, 0, 0, 0, 0, 0, 0, 0, 0]\n",
      "[(30720, 0), (23552, 0), (22023, 0), (35338, 0), (523, 0)]\n"
     ]
    }
   ],
   "source": [
    "#Question 2.2\n",
    "orig = dictionary.copy()\n",
    "\n",
    "def recurse(G, orig, K):\n",
    "    K+=1\n",
    "    newDict = {}\n",
    "    for i in G.Nodes():\n",
    "        nodeVec = orig[i.GetId()].copy()\n",
    "        sumOfNbrs = [0]*len(nodeVec)\n",
    "        count = 0\n",
    "        for j in i.GetOutEdges():\n",
    "            sumOfNbrs = np.add(sumOfNbrs, orig[j])\n",
    "            count += 1\n",
    "        if count != 0:\n",
    "            mean = [x / float(count) for x in sumOfNbrs]\n",
    "        else:\n",
    "            mean = [0]*len(nodeVec)\n",
    "        nodeVec.extend(mean)\n",
    "        nodeVec.extend(sumOfNbrs)\n",
    "        newDict.update({i.GetId(): nodeVec})\n",
    "    if K == 2:\n",
    "        return newDict\n",
    "    else:\n",
    "        return recurse(G,newDict,K)\n",
    "expanded = recurse(G_new, orig, 0)\n",
    "cosSimDict = {}\n",
    "for i in a:\n",
    "    if i in dictionary:\n",
    "        print(\"banned subreddit id: \", i)\n",
    "        x = cosSim(expanded, i)\n",
    "        cosSimDict.update({i: x})\n",
    "        print(cosSim(expanded, i)[0:5])"
   ]
  },
  {
   "cell_type": "code",
   "execution_count": 16,
   "metadata": {},
   "outputs": [],
   "source": [
    "#can just change the index of the below code to find cosSim of new node\n",
    "#print(cosSim(expanded, 41491)[0:5])"
   ]
  },
  {
   "cell_type": "code",
   "execution_count": 23,
   "metadata": {},
   "outputs": [
    {
     "name": "stdout",
     "output_type": "stream",
     "text": [
      "12381\n"
     ]
    },
    {
     "data": {
      "image/png": "[encoded data removed]",
      "text/plain": [
       "<Figure size 432x288 with 1 Axes>"
      ]
     },
     "metadata": {
      "needs_background": "light"
     },
     "output_type": "display_data"
    }
   ],
   "source": [
    "#Question 2.3a\n",
    "id = 12381\n",
    "# id = exampleid\n",
    "x = cosSimDict[id]\n",
    "print(id)\n",
    "y = { x[i][0] : x[i][1] for i in range(0, len(x))}\n",
    "plt.hist(y.values(), bins=20)\n",
    "plt.xticks(np.arange(0,1,0.1))\n",
    "plt.ylabel('Count');\n",
    "plt.xlabel('Cosine Similarity');"
   ]
  },
  {
   "cell_type": "code",
   "execution_count": 28,
   "metadata": {},
   "outputs": [],
   "source": [
    "#Question 2.3b \n",
    "#For these groups / roles in the cosine similarity histogram, \n",
    "#take one node u from each group to examine the feature vector, \n",
    "#and draw the subgraph of the node based on its feature vector. \n",
    "#You can draw the subgraph by hand, or you can use libraries such as networkx or graphviz.\n",
    "#Question 2.3b\n",
    "\n",
    "for ex in G_new.GetNI(12381).GetOutEdges():\n",
    "    print(\"12381\",ex)\n",
    "# for four in G.GetNI(4).GetOutEdges():\n",
    "#     print(\"4\",four)\n",
    "# for five in G.GetNI(5).GetOutEdges():\n",
    "#     print(\"5\",five)\n",
    "# for six in G.GetNI(6).GetOutEdges():\n",
    "#     print(6,six)\n"
   ]
  },
  {
   "cell_type": "code",
   "execution_count": null,
   "metadata": {},
   "outputs": [],
   "source": [
    "# print(\"688: Cosine Similarity = 0\")\n",
    "# for a in G.GetNI(688).GetOutEdges():\n",
    "#     print(a)\n",
    "# print(\"Feature Vector:\", dictionary[688])\n",
    "# g = nx.Graph()\n",
    "# g.add_node(688)\n",
    "# plt.figure()\n",
    "# nx.draw_networkx(g)\n",
    "# plt.show()\n",
    "\n",
    "# for b in G.GetNI(1523).GetOutEdges():\n",
    "#     print(b)\n",
    "# print(\"1523: Cosine Similarity = 0.60422\")\n",
    "# print(\"Feature Vector:\", dictionary[1523])\n",
    "# k = nx.Graph()\n",
    "# k.add_node(1523)\n",
    "# k.add_node(1522)\n",
    "# k.add_edge(1522,1523)\n",
    "# plt.figure()\n",
    "# nx.draw_networkx(k)\n",
    "# plt.show()\n",
    "\n",
    "# print(\"2: Cosine Similarity = 0.90975\")\n",
    "# print(\"Feature Vector:\", dictionary[2])\n",
    "# k = nx.Graph()\n",
    "# for c in G.GetNI(2).GetOutEdges():\n",
    "#     k.add_node(c)\n",
    "#     k.add_edge(2,c)\n",
    "# k.add_edge(3,4)\n",
    "# k.add_edge(3,5)\n",
    "# k.add_edge(3,6)\n",
    "# k.add_edge(4,6)\n",
    "# k.add_edge(4,5)\n",
    "# k.add_edge(5,6)\n",
    "# plt.figure()\n",
    "# nx.draw_networkx(k)\n",
    "# plt.show()"
   ]
  }
 ],
 "metadata": {
  "kernelspec": {
   "display_name": "Python 3",
   "language": "python",
   "name": "python3"
  },
  "language_info": {
   "codemirror_mode": {
    "name": "ipython",
    "version": 3
   },
   "file_extension": ".py",
   "mimetype": "text/x-python",
   "name": "python",
   "nbconvert_exporter": "python",
   "pygments_lexer": "ipython3",
   "version": "3.7.1"
  }
 },
 "nbformat": 4,
 "nbformat_minor": 2
}
