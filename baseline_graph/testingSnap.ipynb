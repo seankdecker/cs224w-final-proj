{
 "cells": [
  {
   "cell_type": "code",
   "execution_count": 1,
   "metadata": {},
   "outputs": [],
   "source": [
    "import snap\n",
    "import numpy as np\n",
    "import matplotlib.pyplot as plt\n",
    "import os\n",
    "import sys\n",
    "import pandas as pd  # To read data\n",
    "from math import log\n",
    "\n",
    "import csv\n",
    "import webbrowser\n",
    "\n",
    "import networkx as nx"
   ]
  },
  {
   "cell_type": "code",
   "execution_count": 2,
   "metadata": {},
   "outputs": [],
   "source": [
    "edges=pd.read_csv('title-data/snap-redditHyperlinks-title.csv', names = [\"source\",\"destination\"])\n",
    "labels=pd.read_csv('title-data/snap-subreddit-ids-title.csv', names = [\"name\",\"id\"])"
   ]
  },
  {
   "cell_type": "code",
   "execution_count": 3,
   "metadata": {},
   "outputs": [
    {
     "data": {
      "text/html": [
       "<div>\n",
       "<style scoped>\n",
       "    .dataframe tbody tr th:only-of-type {\n",
       "        vertical-align: middle;\n",
       "    }\n",
       "\n",
       "    .dataframe tbody tr th {\n",
       "        vertical-align: top;\n",
       "    }\n",
       "\n",
       "    .dataframe thead th {\n",
       "        text-align: right;\n",
       "    }\n",
       "</style>\n",
       "<table border=\"1\" class=\"dataframe\">\n",
       "  <thead>\n",
       "    <tr style=\"text-align: right;\">\n",
       "      <th></th>\n",
       "      <th>source</th>\n",
       "      <th>destination</th>\n",
       "    </tr>\n",
       "  </thead>\n",
       "  <tbody>\n",
       "    <tr>\n",
       "      <th>0</th>\n",
       "      <td>0</td>\n",
       "      <td>1</td>\n",
       "    </tr>\n",
       "    <tr>\n",
       "      <th>1</th>\n",
       "      <td>2</td>\n",
       "      <td>3</td>\n",
       "    </tr>\n",
       "    <tr>\n",
       "      <th>2</th>\n",
       "      <td>4</td>\n",
       "      <td>3</td>\n",
       "    </tr>\n",
       "    <tr>\n",
       "      <th>3</th>\n",
       "      <td>5</td>\n",
       "      <td>6</td>\n",
       "    </tr>\n",
       "    <tr>\n",
       "      <th>4</th>\n",
       "      <td>5</td>\n",
       "      <td>7</td>\n",
       "    </tr>\n",
       "  </tbody>\n",
       "</table>\n",
       "</div>"
      ],
      "text/plain": [
       "   source  destination\n",
       "0       0            1\n",
       "1       2            3\n",
       "2       4            3\n",
       "3       5            6\n",
       "4       5            7"
      ]
     },
     "execution_count": 3,
     "metadata": {},
     "output_type": "execute_result"
    }
   ],
   "source": [
    "edges.head()"
   ]
  },
  {
   "cell_type": "code",
   "execution_count": 4,
   "metadata": {},
   "outputs": [
    {
     "data": {
      "text/html": [
       "<div>\n",
       "<style scoped>\n",
       "    .dataframe tbody tr th:only-of-type {\n",
       "        vertical-align: middle;\n",
       "    }\n",
       "\n",
       "    .dataframe tbody tr th {\n",
       "        vertical-align: top;\n",
       "    }\n",
       "\n",
       "    .dataframe thead th {\n",
       "        text-align: right;\n",
       "    }\n",
       "</style>\n",
       "<table border=\"1\" class=\"dataframe\">\n",
       "  <thead>\n",
       "    <tr style=\"text-align: right;\">\n",
       "      <th></th>\n",
       "      <th>name</th>\n",
       "      <th>id</th>\n",
       "    </tr>\n",
       "  </thead>\n",
       "  <tbody>\n",
       "    <tr>\n",
       "      <th>0</th>\n",
       "      <td>rddtgaming</td>\n",
       "      <td>0</td>\n",
       "    </tr>\n",
       "    <tr>\n",
       "      <th>1</th>\n",
       "      <td>rddtrust</td>\n",
       "      <td>1</td>\n",
       "    </tr>\n",
       "    <tr>\n",
       "      <th>2</th>\n",
       "      <td>xboxone</td>\n",
       "      <td>2</td>\n",
       "    </tr>\n",
       "    <tr>\n",
       "      <th>3</th>\n",
       "      <td>battlefield_4</td>\n",
       "      <td>3</td>\n",
       "    </tr>\n",
       "    <tr>\n",
       "      <th>4</th>\n",
       "      <td>ps4</td>\n",
       "      <td>4</td>\n",
       "    </tr>\n",
       "  </tbody>\n",
       "</table>\n",
       "</div>"
      ],
      "text/plain": [
       "            name  id\n",
       "0     rddtgaming   0\n",
       "1       rddtrust   1\n",
       "2        xboxone   2\n",
       "3  battlefield_4   3\n",
       "4            ps4   4"
      ]
     },
     "execution_count": 4,
     "metadata": {},
     "output_type": "execute_result"
    }
   ],
   "source": [
    "labels.head()"
   ]
  },
  {
   "cell_type": "markdown",
   "metadata": {},
   "source": [
    "# Code from HW1.1"
   ]
  },
  {
   "cell_type": "code",
   "execution_count": 5,
   "metadata": {},
   "outputs": [],
   "source": [
    "def makeGraph(edges, N):\n",
    "    \"\"\"\n",
    "    :param - N: number of nodes\n",
    "\n",
    "    return type: snap.PUNGraph\n",
    "    \"\"\"\n",
    "    ############################################################################\n",
    "    # TODO: Your code here!\n",
    "    G1 = snap.TUNGraph.New()\n",
    "    for i in range(N):\n",
    "        G1.AddNode(i)\n",
    "    for index, row in edges.iterrows():\n",
    "        a = int(row['source'])\n",
    "        b = int(row['destination'])\n",
    "#         print(a)\n",
    "#         print(b)\n",
    "        G1.AddEdge(a, b)\n",
    "    Graph = snap.ConvertGraph(snap.PUNGraph, G1)\n",
    "    ############################################################################\n",
    "    return Graph\n"
   ]
  },
  {
   "cell_type": "code",
   "execution_count": 6,
   "metadata": {},
   "outputs": [],
   "source": [
    "G = makeGraph(edges, len(edges))"
   ]
  },
  {
   "cell_type": "code",
   "execution_count": 7,
   "metadata": {},
   "outputs": [],
   "source": [
    "def getDataPointsToPlot(Graph):\n",
    "    \"\"\"\n",
    "    :param - Graph: snap.PUNGraph object representing an undirected graph\n",
    "\n",
    "    return values:\n",
    "    X: list of degrees\n",
    "    Y: list of frequencies: Y[i] = fraction of nodes with degree X[i]\n",
    "    \"\"\"\n",
    "    ############################################################################\n",
    "    # TODO: Your code here!\n",
    "    cntDeg = snap.TIntPrV()\n",
    "    snap.GetDegCnt(Graph, cntDeg)\n",
    "    X = []\n",
    "    Y = []\n",
    "    for i in sorted(cntDeg):\n",
    "        if i.GetVal1() != 0:\n",
    "            X.append(i.GetVal1())\n",
    "            Y.append(i.GetVal2())\n",
    "    ############################################################################\n",
    "    return X, Y"
   ]
  },
  {
   "cell_type": "code",
   "execution_count": 8,
   "metadata": {},
   "outputs": [
    {
     "data": {
      "image/png": "[encoded data removed]",
      "text/plain": [
       "<Figure size 432x288 with 1 Axes>"
      ]
     },
     "metadata": {
      "needs_background": "light"
     },
     "output_type": "display_data"
    }
   ],
   "source": [
    "x_rNet, y_rNet = getDataPointsToPlot(G)\n",
    "plt.loglog(x_rNet, y_rNet, linestyle = 'dotted', color = 'b', label = 'Reddit Network')\n",
    "\n",
    "plt.xlabel('Node Degree (log)')\n",
    "plt.ylabel('Proportion of Nodes with a Given Degree (log)')\n",
    "plt.title('Degree Distribution of Reddit Network')\n",
    "plt.legend()\n",
    "plt.show()"
   ]
  },
  {
   "cell_type": "code",
   "execution_count": 9,
   "metadata": {},
   "outputs": [
    {
     "name": "stdout",
     "output_type": "stream",
     "text": [
      "Clustering Coefficient for Reddit Network: 0.017431\n"
     ]
    }
   ],
   "source": [
    "def calcClusteringCoefficientSingleNode(Node, Graph):\n",
    "    \"\"\"\n",
    "    :param - Node: node from snap.PUNGraph object. Graph.Nodes() will give an\n",
    "                   iterable of nodes in a graph\n",
    "    :param - Graph: snap.PUNGraph object representing an undirected graph\n",
    "\n",
    "    return type: float\n",
    "    returns: local clustering coeffient of Node\n",
    "    \"\"\"\n",
    "    ############################################################################\n",
    "    # TODO: Your code here!\n",
    "    nodeDeg = Node.GetDeg()\n",
    "    nodeId = Node.GetId()\n",
    "    count = 0\n",
    "    for i in Node.GetOutEdges():\n",
    "        for j in Node.GetOutEdges():\n",
    "            if Graph.IsEdge(i,j):\n",
    "                count += 1\n",
    "    if nodeDeg >=2:\n",
    "        C = float(count)/((nodeDeg)*(nodeDeg-1))\n",
    "    else: \n",
    "        C = 0\n",
    "\n",
    "    ############################################################################\n",
    "    return C\n",
    "\n",
    "def calcClusteringCoefficient(Graph):\n",
    "    \"\"\"\n",
    "    :param - Graph: snap.PUNGraph object representing an undirected graph\n",
    "\n",
    "    return type: float\n",
    "    returns: clustering coeffient of Graph\n",
    "    \"\"\"\n",
    "    ############################################################################\n",
    "    # TODO: Your code here! If you filled out calcClusteringCoefficientSingleNode,\n",
    "    #       you'll probably want to call it in a loop here\n",
    "    sumCoeff=0\n",
    "    V = Graph.GetNodes()\n",
    "    for i in Graph.Nodes():\n",
    "        sumCoeff+=calcClusteringCoefficientSingleNode(i,Graph)\n",
    "    C = 1/float(V)*sumCoeff\n",
    "\n",
    "    ############################################################################\n",
    "    return C\n",
    "\n",
    "def Q1_2(G):\n",
    "    \"\"\"\n",
    "    Code for Q1.2\n",
    "    \"\"\"\n",
    "    C_Reddit = calcClusteringCoefficient(G)\n",
    "\n",
    "    print('Clustering Coefficient for Reddit Network: %f' % C_Reddit)\n",
    "\n",
    "# Execute code for Q1.2\n",
    "Q1_2(G)"
   ]
  },
  {
   "cell_type": "markdown",
   "metadata": {},
   "source": [
    "# Code from HW0"
   ]
  },
  {
   "cell_type": "code",
   "execution_count": null,
   "metadata": {},
   "outputs": [],
   "source": [
    "total = G.GetNodes()\n",
    "print(\"The number of nodes in the network: %d\" % total)\n",
    "print(\"The number of nodes with a self-edge : %d\" % snap.CntSelfEdges(G))\n",
    "print(\"The number of directed edges in the network: %d\" % snap.CntUniqDirEdges(G))\n",
    "print(\"The number of undirected edges in the network : %d\" % snap.CntUniqUndirEdges(G))\n",
    "\n",
    "print(\"The number of reciprocated edges in the network: %d\" % snap.CntUniqBiDirEdges(G))\n",
    "print(\"The number of nodes of zero out-degree : %d\" % snap.CntOutDegNodes(G,0))\n",
    "print(\"The number of nodes of zero in-degree: %d\" % snap.CntInDegNodes(G,0))"
   ]
  },
  {
   "cell_type": "code",
   "execution_count": null,
   "metadata": {},
   "outputs": [],
   "source": [
    "#Check\n",
    "DegToCntV = snap.TIntPrV()\n",
    "snap.GetOutDegCnt(G, DegToCntV)\n",
    "countOut = 0\n",
    "for item in DegToCntV:\n",
    "    if item.GetVal1() > 10:\n",
    "        countOut += item.GetVal2()\n",
    "print(\"The number of nodes with more than 10 outgoing edges : %d\" % countOut)\n",
    "DegToCntV = snap.TIntPrV()\n",
    "snap.GetInDegCnt(G, DegToCntV)\n",
    "countIn = 0\n",
    "for item in DegToCntV:\n",
    "    if item.GetVal1() < 10:\n",
    "        countIn += item.GetVal2()\n",
    "print(\"The number of nodes with fewer than 10 incoming edges : %d\" % countIn)"
   ]
  },
  {
   "cell_type": "code",
   "execution_count": null,
   "metadata": {},
   "outputs": [],
   "source": [
    "# 2 Further Analyzing the network \n",
    "#part1\n",
    "cntDeg = snap.TIntPrV()\n",
    "snap.GetOutDegCnt(G, cntDeg)\n",
    "fig2 = plt.figure()\n",
    "x = []\n",
    "y = []\n",
    "for i in sorted(cntDeg):\n",
    "    if i.GetVal1() != 0:\n",
    "        x.append(i.GetVal1())\n",
    "        y.append(i.GetVal2())\n",
    "fig2 = plt.plot(x, y, 'o')\n",
    "plt.xscale('log')\n",
    "plt.yscale('log')\n",
    "plt.title(\"Distribution of Out-degrees of Nodes\")\n",
    "plt.savefig(\"degDistr.png\")"
   ]
  },
  {
   "cell_type": "code",
   "execution_count": null,
   "metadata": {},
   "outputs": [],
   "source": [
    "#part2\n",
    "fig2 = plt.figure()\n",
    "xLog = []\n",
    "yLog = []\n",
    "for i in sorted(cntDeg):\n",
    "    if i.GetVal1() != 0:\n",
    "        xLog.append(log(i.GetVal1(),10))\n",
    "        yLog.append(log(i.GetVal2(),10))\n",
    "pfit = np.polyfit(xLog, yLog, 1)\n",
    "print(\"polyfit coefficients :\", pfit)\n",
    "line = np.poly1d(pfit)\n",
    "fig2 = plt.plot(x,y,'o')\n",
    "\n",
    "line = pow(10, pfit[1])*pow(x,pfit[0])\n",
    "plt.plot(x, line)\n",
    "plt.xscale('log')\n",
    "plt.yscale('log')\n",
    "plt.title(\"Least Square Regression\")\n",
    "plt.savefig(\"least-squareregression.png\")"
   ]
  },
  {
   "cell_type": "code",
   "execution_count": null,
   "metadata": {},
   "outputs": [],
   "source": [
    "#3 Finding Central Nodes\n",
    "Components = snap.TCnComV()\n",
    "snap.GetWccs(G, Components)\n",
    "print(\"The number of weakly connected components in the network: %d\" % Components.Len())\n",
    "\n",
    "largestComponent = snap.GetMxWcc(G)\n",
    "edges =largestComponent.GetEdges()\n",
    "nodes =largestComponent.GetNodes()\n",
    "print(\"In the largest weakly connected component, the number of edges: %d, and the number of nodes: %d\" % (edges, nodes))\n",
    "\n",
    "pageR = snap.TIntFltH()\n",
    "snap.GetPageRank(G, pageR)\n",
    "ordering = {}\n",
    "for item in pageR:\n",
    "    ordering.update({item: pageR[item]})\n",
    "sorted_hash = sorted(ordering.items(), key=lambda x: x[1], reverse = True)\n",
    "print(\"IDs of the top 3 most central nodes in the network by PagePank scores: %d, %d, %d\" % (sorted_hash[0][0],sorted_hash[1][0],sorted_hash[2][0]))\n",
    "\n",
    "hubs = snap.TIntFltH()\n",
    "auth = snap.TIntFltH()\n",
    "snap.GetHits(G, hubs, auth)\n",
    "orderingHub = {}\n",
    "for item in hubs:\n",
    "    orderingHub.update({item: hubs[item]})\n",
    "orderingAuth = {}\n",
    "for item in auth:\n",
    "    orderingAuth.update({item: auth[item]})\n",
    "sorted_hubs = sorted(orderingHub.items(), key=lambda x: x[1], reverse = True)\n",
    "sorted_auth = sorted(orderingAuth.items(), key=lambda x: x[1], reverse = True)\n",
    "print(\"By HITS scores, IDs of the top 3 hubs: %d, %d, %d and top 3 authorities in the network: %d, %d, %d\" %\n",
    "    (sorted_hubs[0][0],sorted_hubs[1][0],sorted_hubs[2][0], \n",
    "    sorted_auth[0][0],sorted_auth[1][0],sorted_auth[2][0]))"
   ]
  },
  {
   "cell_type": "code",
   "execution_count": null,
   "metadata": {},
   "outputs": [],
   "source": []
  },
  {
   "cell_type": "markdown",
   "metadata": {},
   "source": [
    "# From SNAP Website\n",
    "https://snap.stanford.edu/snap-1.8/doc.html"
   ]
  },
  {
   "cell_type": "code",
   "execution_count": null,
   "metadata": {},
   "outputs": [],
   "source": [
    "# # get distribution of connected components (component size, count)\n",
    "# CntV = snap.TIntPrV()\n",
    "# # TVec(snap.TIntPr(TInt,TInt)) CntV; # vector of pairs of integers (size, count)\n",
    "# print(\"distribution of connected components: \", snap.GetWccSzCnt(G, CntV));"
   ]
  },
  {
   "cell_type": "code",
   "execution_count": null,
   "metadata": {},
   "outputs": [],
   "source": [
    "# # get degree distribution pairs (degree, count)\n",
    "# print(\"degree distribution pairs: \",snap.GetOutDegCnt(G));"
   ]
  },
  {
   "cell_type": "code",
   "execution_count": null,
   "metadata": {},
   "outputs": [],
   "source": [
    "# # get first eigenvector of graph adjacency matrix\n",
    "# TFltV EigV; # vector of floats\n",
    "# print(\"first eigenvector: \", snap.GetEigVec(G, EigV));"
   ]
  },
  {
   "cell_type": "code",
   "execution_count": null,
   "metadata": {},
   "outputs": [],
   "source": [
    "# # get diameter of G\n",
    "# print(\"diameter of G: \", snap.GetBfsFullDiam(G));\n"
   ]
  },
  {
   "cell_type": "code",
   "execution_count": 13,
   "metadata": {},
   "outputs": [
    {
     "name": "stdout",
     "output_type": "stream",
     "text": [
      "the number of triads:  1329278\n",
      "Clustering Coefficient:  0.01743094218900993\n",
      "Node Clustering Coefficient:  0.0\n"
     ]
    }
   ],
   "source": [
    "# count the number of triads in G, get the clustering coefficient of G\n",
    "print(\"the number of triads: \", snap.GetTriads(G));\n",
    "print(\"Clustering Coefficient: \", snap.GetClustCf(G));\n"
   ]
  },
  {
   "cell_type": "code",
   "execution_count": 14,
   "metadata": {},
   "outputs": [
    {
     "name": "stdout",
     "output_type": "stream",
     "text": [
      "Node Clustering Coefficient:  0.08132823884433123\n"
     ]
    }
   ],
   "source": [
    "print(\"Node Clustering Coefficient: \", snap.GetNodeClustCf(G, 0));"
   ]
  },
  {
   "cell_type": "code",
   "execution_count": null,
   "metadata": {},
   "outputs": [],
   "source": []
  },
  {
   "cell_type": "code",
   "execution_count": null,
   "metadata": {},
   "outputs": [],
   "source": []
  }
 ],
 "metadata": {
  "kernelspec": {
   "display_name": "Python 3",
   "language": "python",
   "name": "python3"
  },
  "language_info": {
   "codemirror_mode": {
    "name": "ipython",
    "version": 3
   },
   "file_extension": ".py",
   "mimetype": "text/x-python",
   "name": "python",
   "nbconvert_exporter": "python",
   "pygments_lexer": "ipython3",
   "version": "3.7.1"
  }
 },
 "nbformat": 4,
 "nbformat_minor": 2
}
