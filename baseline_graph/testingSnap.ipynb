{
 "cells": [
  {
   "cell_type": "code",
   "execution_count": 30,
   "metadata": {},
   "outputs": [],
   "source": [
    "import snap\n",
    "import numpy as np\n",
    "import matplotlib.pyplot as plt\n",
    "import os\n",
    "import sys\n",
    "import pandas as pd  # To read data\n",
    "from math import log\n",
    "\n",
    "import csv\n",
    "import webbrowser\n",
    "\n",
    "import networkx as nx"
   ]
  },
  {
   "cell_type": "code",
   "execution_count": 2,
   "metadata": {},
   "outputs": [],
   "source": [
    "edges=pd.read_csv('title-data/snap-redditHyperlinks-title.csv', names = [\"source\",\"destination\"])\n",
    "labels=pd.read_csv('title-data/snap-subreddit-ids-title.csv', names = [\"name\",\"id\"])"
   ]
  },
  {
   "cell_type": "code",
   "execution_count": 3,
   "metadata": {},
   "outputs": [
    {
     "data": {
      "text/html": [
       "<div>\n",
       "<style scoped>\n",
       "    .dataframe tbody tr th:only-of-type {\n",
       "        vertical-align: middle;\n",
       "    }\n",
       "\n",
       "    .dataframe tbody tr th {\n",
       "        vertical-align: top;\n",
       "    }\n",
       "\n",
       "    .dataframe thead th {\n",
       "        text-align: right;\n",
       "    }\n",
       "</style>\n",
       "<table border=\"1\" class=\"dataframe\">\n",
       "  <thead>\n",
       "    <tr style=\"text-align: right;\">\n",
       "      <th></th>\n",
       "      <th>source</th>\n",
       "      <th>destination</th>\n",
       "    </tr>\n",
       "  </thead>\n",
       "  <tbody>\n",
       "    <tr>\n",
       "      <th>0</th>\n",
       "      <td>0</td>\n",
       "      <td>1</td>\n",
       "    </tr>\n",
       "    <tr>\n",
       "      <th>1</th>\n",
       "      <td>2</td>\n",
       "      <td>3</td>\n",
       "    </tr>\n",
       "    <tr>\n",
       "      <th>2</th>\n",
       "      <td>4</td>\n",
       "      <td>3</td>\n",
       "    </tr>\n",
       "    <tr>\n",
       "      <th>3</th>\n",
       "      <td>5</td>\n",
       "      <td>6</td>\n",
       "    </tr>\n",
       "    <tr>\n",
       "      <th>4</th>\n",
       "      <td>5</td>\n",
       "      <td>7</td>\n",
       "    </tr>\n",
       "  </tbody>\n",
       "</table>\n",
       "</div>"
      ],
      "text/plain": [
       "   source  destination\n",
       "0       0            1\n",
       "1       2            3\n",
       "2       4            3\n",
       "3       5            6\n",
       "4       5            7"
      ]
     },
     "execution_count": 3,
     "metadata": {},
     "output_type": "execute_result"
    }
   ],
   "source": [
    "edges.head()"
   ]
  },
  {
   "cell_type": "code",
   "execution_count": 4,
   "metadata": {},
   "outputs": [
    {
     "data": {
      "text/html": [
       "<div>\n",
       "<style scoped>\n",
       "    .dataframe tbody tr th:only-of-type {\n",
       "        vertical-align: middle;\n",
       "    }\n",
       "\n",
       "    .dataframe tbody tr th {\n",
       "        vertical-align: top;\n",
       "    }\n",
       "\n",
       "    .dataframe thead th {\n",
       "        text-align: right;\n",
       "    }\n",
       "</style>\n",
       "<table border=\"1\" class=\"dataframe\">\n",
       "  <thead>\n",
       "    <tr style=\"text-align: right;\">\n",
       "      <th></th>\n",
       "      <th>name</th>\n",
       "      <th>id</th>\n",
       "    </tr>\n",
       "  </thead>\n",
       "  <tbody>\n",
       "    <tr>\n",
       "      <th>0</th>\n",
       "      <td>rddtgaming</td>\n",
       "      <td>0</td>\n",
       "    </tr>\n",
       "    <tr>\n",
       "      <th>1</th>\n",
       "      <td>rddtrust</td>\n",
       "      <td>1</td>\n",
       "    </tr>\n",
       "    <tr>\n",
       "      <th>2</th>\n",
       "      <td>xboxone</td>\n",
       "      <td>2</td>\n",
       "    </tr>\n",
       "    <tr>\n",
       "      <th>3</th>\n",
       "      <td>battlefield_4</td>\n",
       "      <td>3</td>\n",
       "    </tr>\n",
       "    <tr>\n",
       "      <th>4</th>\n",
       "      <td>ps4</td>\n",
       "      <td>4</td>\n",
       "    </tr>\n",
       "  </tbody>\n",
       "</table>\n",
       "</div>"
      ],
      "text/plain": [
       "            name  id\n",
       "0     rddtgaming   0\n",
       "1       rddtrust   1\n",
       "2        xboxone   2\n",
       "3  battlefield_4   3\n",
       "4            ps4   4"
      ]
     },
     "execution_count": 4,
     "metadata": {},
     "output_type": "execute_result"
    }
   ],
   "source": [
    "labels.head()"
   ]
  },
  {
   "cell_type": "markdown",
   "metadata": {},
   "source": [
    "# Code from HW1.1"
   ]
  },
  {
   "cell_type": "code",
   "execution_count": 19,
   "metadata": {},
   "outputs": [],
   "source": [
    "def makeGraph(edges, N):\n",
    "    \"\"\"\n",
    "    :param - N: number of nodes\n",
    "\n",
    "    return type: snap.PUNGraph\n",
    "    \"\"\"\n",
    "    ############################################################################\n",
    "    # TODO: Your code here!\n",
    "    G1 = snap.TUNGraph.New()\n",
    "    for i in range(N):\n",
    "        G1.AddNode(i)\n",
    "    for index, row in edges.iterrows():\n",
    "        a = int(row['source'])\n",
    "        b = int(row['destination'])\n",
    "#         print(a)\n",
    "#         print(b)\n",
    "        G1.AddEdge(a, b)\n",
    "    Graph = snap.ConvertGraph(snap.PUNGraph, G1)\n",
    "    ############################################################################\n",
    "    return Graph\n"
   ]
  },
  {
   "cell_type": "code",
   "execution_count": 10,
   "metadata": {},
   "outputs": [],
   "source": [
    "G = makeGraph(edges, len(edges))"
   ]
  },
  {
   "cell_type": "code",
   "execution_count": 23,
   "metadata": {},
   "outputs": [],
   "source": [
    "def getDataPointsToPlot(Graph):\n",
    "    \"\"\"\n",
    "    :param - Graph: snap.PUNGraph object representing an undirected graph\n",
    "\n",
    "    return values:\n",
    "    X: list of degrees\n",
    "    Y: list of frequencies: Y[i] = fraction of nodes with degree X[i]\n",
    "    \"\"\"\n",
    "    ############################################################################\n",
    "    # TODO: Your code here!\n",
    "    cntDeg = snap.TIntPrV()\n",
    "    snap.GetDegCnt(Graph, cntDeg)\n",
    "    X = []\n",
    "    Y = []\n",
    "    for i in sorted(cntDeg):\n",
    "        if i.GetVal1() != 0:\n",
    "            X.append(i.GetVal1())\n",
    "            Y.append(i.GetVal2())\n",
    "    ############################################################################\n",
    "    return X, Y"
   ]
  },
  {
   "cell_type": "code",
   "execution_count": 26,
   "metadata": {},
   "outputs": [
    {
     "data": {
      "image/png": "[encoded data removed]",
      "text/plain": [
       "<Figure size 432x288 with 1 Axes>"
      ]
     },
     "metadata": {
      "needs_background": "light"
     },
     "output_type": "display_data"
    }
   ],
   "source": [
    "x_rNet, y_rNet = getDataPointsToPlot(G)\n",
    "plt.loglog(x_rNet, y_rNet, linestyle = 'dotted', color = 'b', label = 'Reddit Network')\n",
    "\n",
    "plt.xlabel('Node Degree (log)')\n",
    "plt.ylabel('Proportion of Nodes with a Given Degree (log)')\n",
    "plt.title('Degree Distribution of Reddit Network')\n",
    "plt.legend()\n",
    "plt.show()"
   ]
  },
  {
   "cell_type": "code",
   "execution_count": 29,
   "metadata": {},
   "outputs": [
    {
     "name": "stdout",
     "output_type": "stream",
     "text": [
      "Clustering Coefficient for Reddit Network: 0.017431\n"
     ]
    }
   ],
   "source": [
    "def calcClusteringCoefficientSingleNode(Node, Graph):\n",
    "    \"\"\"\n",
    "    :param - Node: node from snap.PUNGraph object. Graph.Nodes() will give an\n",
    "                   iterable of nodes in a graph\n",
    "    :param - Graph: snap.PUNGraph object representing an undirected graph\n",
    "\n",
    "    return type: float\n",
    "    returns: local clustering coeffient of Node\n",
    "    \"\"\"\n",
    "    ############################################################################\n",
    "    # TODO: Your code here!\n",
    "    nodeDeg = Node.GetDeg()\n",
    "    nodeId = Node.GetId()\n",
    "    count = 0\n",
    "    for i in Node.GetOutEdges():\n",
    "        for j in Node.GetOutEdges():\n",
    "            if Graph.IsEdge(i,j):\n",
    "                count += 1\n",
    "    if nodeDeg >=2:\n",
    "        C = float(count)/((nodeDeg)*(nodeDeg-1))\n",
    "    else: \n",
    "        C = 0\n",
    "\n",
    "    ############################################################################\n",
    "    return C\n",
    "\n",
    "def calcClusteringCoefficient(Graph):\n",
    "    \"\"\"\n",
    "    :param - Graph: snap.PUNGraph object representing an undirected graph\n",
    "\n",
    "    return type: float\n",
    "    returns: clustering coeffient of Graph\n",
    "    \"\"\"\n",
    "    ############################################################################\n",
    "    # TODO: Your code here! If you filled out calcClusteringCoefficientSingleNode,\n",
    "    #       you'll probably want to call it in a loop here\n",
    "    sumCoeff=0\n",
    "    V = Graph.GetNodes()\n",
    "    for i in Graph.Nodes():\n",
    "        sumCoeff+=calcClusteringCoefficientSingleNode(i,Graph)\n",
    "    C = 1/float(V)*sumCoeff\n",
    "\n",
    "    ############################################################################\n",
    "    return C\n",
    "\n",
    "def Q1_2(G):\n",
    "    \"\"\"\n",
    "    Code for Q1.2\n",
    "    \"\"\"\n",
    "    C_Reddit = calcClusteringCoefficient(G)\n",
    "\n",
    "    print('Clustering Coefficient for Reddit Network: %f' % C_Reddit)\n",
    "\n",
    "# Execute code for Q1.2\n",
    "Q1_2(G)"
   ]
  },
  {
   "cell_type": "markdown",
   "metadata": {},
   "source": [
    "# Code from HW1.2"
   ]
  },
  {
   "cell_type": "code",
   "execution_count": 31,
   "metadata": {},
   "outputs": [
    {
     "ename": "KeyboardInterrupt",
     "evalue": "",
     "output_type": "error",
     "traceback": [
      "\u001b[0;31m---------------------------------------------------------------------------\u001b[0m",
      "\u001b[0;31mKeyboardInterrupt\u001b[0m                         Traceback (most recent call last)",
      "\u001b[0;32m<ipython-input-31-b11ba0f6cb19>\u001b[0m in \u001b[0;36m<module>\u001b[0;34m\u001b[0m\n\u001b[1;32m     31\u001b[0m     \u001b[0mnumberEdgesSurround\u001b[0m \u001b[0;34m=\u001b[0m \u001b[0;36m0\u001b[0m\u001b[0;34m\u001b[0m\u001b[0;34m\u001b[0m\u001b[0m\n\u001b[1;32m     32\u001b[0m     \u001b[0;32mfor\u001b[0m \u001b[0mj\u001b[0m \u001b[0;32min\u001b[0m \u001b[0mG\u001b[0m\u001b[0;34m.\u001b[0m\u001b[0mNodes\u001b[0m\u001b[0;34m(\u001b[0m\u001b[0;34m)\u001b[0m\u001b[0;34m:\u001b[0m\u001b[0;34m\u001b[0m\u001b[0;34m\u001b[0m\u001b[0m\n\u001b[0;32m---> 33\u001b[0;31m         \u001b[0;32mfor\u001b[0m \u001b[0mk\u001b[0m \u001b[0;32min\u001b[0m \u001b[0mG2\u001b[0m\u001b[0;34m.\u001b[0m\u001b[0mNodes\u001b[0m\u001b[0;34m(\u001b[0m\u001b[0;34m)\u001b[0m\u001b[0;34m:\u001b[0m\u001b[0;34m\u001b[0m\u001b[0;34m\u001b[0m\u001b[0m\n\u001b[0m\u001b[1;32m     34\u001b[0m             \u001b[0;32mif\u001b[0m \u001b[0mj\u001b[0m\u001b[0;34m!=\u001b[0m\u001b[0mk\u001b[0m \u001b[0;32mand\u001b[0m \u001b[0mG\u001b[0m\u001b[0;34m.\u001b[0m\u001b[0mIsEdge\u001b[0m\u001b[0;34m(\u001b[0m\u001b[0mj\u001b[0m\u001b[0;34m.\u001b[0m\u001b[0mGetId\u001b[0m\u001b[0;34m(\u001b[0m\u001b[0;34m)\u001b[0m\u001b[0;34m,\u001b[0m\u001b[0mk\u001b[0m\u001b[0;34m.\u001b[0m\u001b[0mGetId\u001b[0m\u001b[0;34m(\u001b[0m\u001b[0;34m)\u001b[0m\u001b[0;34m)\u001b[0m \u001b[0;32mand\u001b[0m \u001b[0;32mnot\u001b[0m \u001b[0mG2\u001b[0m\u001b[0;34m.\u001b[0m\u001b[0mIsEdge\u001b[0m\u001b[0;34m(\u001b[0m\u001b[0mj\u001b[0m\u001b[0;34m.\u001b[0m\u001b[0mGetId\u001b[0m\u001b[0;34m(\u001b[0m\u001b[0;34m)\u001b[0m\u001b[0;34m,\u001b[0m\u001b[0mk\u001b[0m\u001b[0;34m.\u001b[0m\u001b[0mGetId\u001b[0m\u001b[0;34m(\u001b[0m\u001b[0;34m)\u001b[0m\u001b[0;34m)\u001b[0m\u001b[0;34m:\u001b[0m\u001b[0;34m\u001b[0m\u001b[0;34m\u001b[0m\u001b[0m\n\u001b[1;32m     35\u001b[0m                 \u001b[0mnumberEdgesSurround\u001b[0m \u001b[0;34m+=\u001b[0m \u001b[0;36m1\u001b[0m\u001b[0;34m\u001b[0m\u001b[0;34m\u001b[0m\u001b[0m\n",
      "\u001b[0;32m~/anaconda3/lib/python3.7/site-packages/snap.py\u001b[0m in \u001b[0;36mNodes\u001b[0;34m(self)\u001b[0m\n\u001b[1;32m  84646\u001b[0m \u001b[0;32mdef\u001b[0m \u001b[0mNodes\u001b[0m\u001b[0;34m(\u001b[0m\u001b[0mself\u001b[0m\u001b[0;34m)\u001b[0m\u001b[0;34m:\u001b[0m\u001b[0;34m\u001b[0m\u001b[0;34m\u001b[0m\u001b[0m\n\u001b[1;32m  84647\u001b[0m     \u001b[0mNI\u001b[0m \u001b[0;34m=\u001b[0m \u001b[0mself\u001b[0m\u001b[0;34m.\u001b[0m\u001b[0mBegNI\u001b[0m\u001b[0;34m(\u001b[0m\u001b[0;34m)\u001b[0m\u001b[0;34m\u001b[0m\u001b[0;34m\u001b[0m\u001b[0m\n\u001b[0;32m> 84648\u001b[0;31m     \u001b[0;32mwhile\u001b[0m \u001b[0mNI\u001b[0m \u001b[0;34m<\u001b[0m \u001b[0mself\u001b[0m\u001b[0;34m.\u001b[0m\u001b[0mEndNI\u001b[0m\u001b[0;34m(\u001b[0m\u001b[0;34m)\u001b[0m\u001b[0;34m:\u001b[0m\u001b[0;34m\u001b[0m\u001b[0;34m\u001b[0m\u001b[0m\n\u001b[0m\u001b[1;32m  84649\u001b[0m         \u001b[0;32myield\u001b[0m \u001b[0mNI\u001b[0m\u001b[0;34m\u001b[0m\u001b[0;34m\u001b[0m\u001b[0m\n\u001b[1;32m  84650\u001b[0m         \u001b[0mNI\u001b[0m\u001b[0;34m.\u001b[0m\u001b[0mNext\u001b[0m\u001b[0;34m(\u001b[0m\u001b[0;34m)\u001b[0m\u001b[0;34m\u001b[0m\u001b[0;34m\u001b[0m\u001b[0m\n",
      "\u001b[0;31mKeyboardInterrupt\u001b[0m: "
     ]
    }
   ],
   "source": [
    "def getNeighbors(i):\n",
    "    NIdVIn = snap.TIntV()\n",
    "    NIdVIn.Add(i.GetId())\n",
    "    for j in i.GetOutEdges():\n",
    "        NIdVIn.Add(j) \n",
    "    return NIdVIn\n",
    "\n",
    "def cosSim(dictionary, idx):\n",
    "    a = dictionary[idx]\n",
    "    print(\"Feature Vector\",a)\n",
    "    simDict = {}\n",
    "    for i in dictionary.keys():\n",
    "        if i != 9:\n",
    "            b = dictionary[i] \n",
    "            dot = np.dot(a, b)\n",
    "            norma = np.linalg.norm(a)\n",
    "            normb = np.linalg.norm(b)\n",
    "            if norma != 0 and normb != 0:\n",
    "                cos = dot / (norma * normb)\n",
    "            else:\n",
    "                cos = 0\n",
    "            simDict.update({i: cos})\n",
    "            \n",
    "    return list(sorted(simDict.items(), key=lambda item: item[1], reverse = True))\n",
    "    \n",
    "dictionary ={}\n",
    "for i in G.Nodes():\n",
    "    nodeDeg = i.GetDeg() \n",
    "    G2 = snap.GetSubGraph(G, getNeighbors(i))\n",
    "    numEdgesInEgoNet = G2.GetEdges()\n",
    "    numberEdgesSurround = 0\n",
    "    for j in G.Nodes():\n",
    "        for k in G2.Nodes():\n",
    "            if j!=k and G.IsEdge(j.GetId(),k.GetId()) and not G2.IsEdge(j.GetId(),k.GetId()):\n",
    "                numberEdgesSurround += 1 \n",
    "    dictionary.update({i.GetId():[nodeDeg,numEdgesInEgoNet, numberEdgesSurround]}) \n",
    "#ID of boners = 41491 - banned subreddit\n",
    "print(cosSim(dictionary, 41491)[0:5])"
   ]
  },
  {
   "cell_type": "code",
   "execution_count": null,
   "metadata": {},
   "outputs": [],
   "source": [
    "#once dictionary is built, no need to rerun\n",
    "#can just change the index of the below code to find cosSim of new node\n",
    "#print(cosSim(dictionary, 41491)[0:5])"
   ]
  },
  {
   "cell_type": "code",
   "execution_count": null,
   "metadata": {},
   "outputs": [],
   "source": [
    "#Question 2.2\n",
    "orig = dictionary.copy()\n",
    "\n",
    "def recurse(G, orig, K):\n",
    "    K+=1\n",
    "    newDict = {}\n",
    "    for i in G.Nodes():\n",
    "        nodeVec = orig[i.GetId()].copy()\n",
    "        sumOfNbrs = [0]*len(nodeVec)\n",
    "        count = 0\n",
    "        for j in i.GetOutEdges():\n",
    "            sumOfNbrs = np.add(sumOfNbrs, orig[j])\n",
    "            count += 1\n",
    "        if count != 0:\n",
    "            mean = [x / float(count) for x in sumOfNbrs]\n",
    "        else:\n",
    "            mean = [0]*len(nodeVec)\n",
    "        nodeVec.extend(mean)\n",
    "        nodeVec.extend(sumOfNbrs)\n",
    "        newDict.update({i.GetId(): nodeVec})\n",
    "    if K == 2:\n",
    "        return newDict\n",
    "    else:\n",
    "        return recurse(G,newDict,K)\n",
    "expanded = recurse(G, orig, 0)\n",
    "x = cosSim(expanded, 41491)\n",
    "print(x[0:5])"
   ]
  },
  {
   "cell_type": "code",
   "execution_count": null,
   "metadata": {},
   "outputs": [],
   "source": [
    "#can just change the index of the below code to find cosSim of new node\n",
    "#print(cosSim(expanded, 41491)[0:5])"
   ]
  },
  {
   "cell_type": "code",
   "execution_count": null,
   "metadata": {},
   "outputs": [],
   "source": [
    "#Question 2.3a\n",
    "y = { x[i][0] : x[i][1] for i in range(0, len(x))}\n",
    "plt.hist(y.values(), bins=20)\n",
    "plt.xticks(np.arange(0,1,0.1))\n",
    "plt.ylabel('Count');\n",
    "plt.xlabel('Cosine Similarity');"
   ]
  },
  {
   "cell_type": "code",
   "execution_count": null,
   "metadata": {},
   "outputs": [],
   "source": [
    "#Question 2.3b \n",
    "#For these groups / roles in the cosine similarity histogram, \n",
    "#take one node u from each group to examine the feature vector, \n",
    "#and draw the subgraph of the node based on its feature vector. \n",
    "#You can draw the subgraph by hand, or you can use libraries such as networkx or graphviz.\n",
    "#Question 2.3b\n",
    "\n",
    "# for three in G.GetNI(3).GetOutEdges():\n",
    "#     print(\"3\",three)\n",
    "# for four in G.GetNI(4).GetOutEdges():\n",
    "#     print(\"4\",four)\n",
    "# for five in G.GetNI(5).GetOutEdges():\n",
    "#     print(\"5\",five)\n",
    "# for six in G.GetNI(6).GetOutEdges():\n",
    "#     print(6,six)\n",
    "    \n",
    "# print(\"688: Cosine Similarity = 0\")\n",
    "# for a in G.GetNI(688).GetOutEdges():\n",
    "#     print(a)\n",
    "# print(\"Feature Vector:\", dictionary[688])\n",
    "# g = nx.Graph()\n",
    "# g.add_node(688)\n",
    "# plt.figure()\n",
    "# nx.draw_networkx(g)\n",
    "# plt.show()\n",
    "\n",
    "# for b in G.GetNI(1523).GetOutEdges():\n",
    "#     print(b)\n",
    "# print(\"1523: Cosine Similarity = 0.60422\")\n",
    "# print(\"Feature Vector:\", dictionary[1523])\n",
    "# k = nx.Graph()\n",
    "# k.add_node(1523)\n",
    "# k.add_node(1522)\n",
    "# k.add_edge(1522,1523)\n",
    "# plt.figure()\n",
    "# nx.draw_networkx(k)\n",
    "# plt.show()\n",
    "\n",
    "# print(\"2: Cosine Similarity = 0.90975\")\n",
    "# print(\"Feature Vector:\", dictionary[2])\n",
    "# k = nx.Graph()\n",
    "# for c in G.GetNI(2).GetOutEdges():\n",
    "#     k.add_node(c)\n",
    "#     k.add_edge(2,c)\n",
    "# k.add_edge(3,4)\n",
    "# k.add_edge(3,5)\n",
    "# k.add_edge(3,6)\n",
    "# k.add_edge(4,6)\n",
    "# k.add_edge(4,5)\n",
    "# k.add_edge(5,6)\n",
    "# plt.figure()\n",
    "# nx.draw_networkx(k)\n",
    "# plt.show()"
   ]
  },
  {
   "cell_type": "markdown",
   "metadata": {},
   "source": [
    "# Code from HW0"
   ]
  },
  {
   "cell_type": "code",
   "execution_count": 11,
   "metadata": {},
   "outputs": [
    {
     "name": "stdout",
     "output_type": "stream",
     "text": [
      "The number of nodes in the network: 571927\n",
      "The number of nodes with a self-edge : 0\n",
      "The number of directed edges in the network: 440302\n",
      "The number of undirected edges in the network : 220151\n",
      "The number of reciprocated edges in the network: 220151\n",
      "The number of nodes of zero out-degree : 517852\n",
      "The number of nodes of zero in-degree: 517852\n"
     ]
    }
   ],
   "source": [
    "total = G.GetNodes()\n",
    "print(\"The number of nodes in the network: %d\" % total)\n",
    "print(\"The number of nodes with a self-edge : %d\" % snap.CntSelfEdges(G))\n",
    "print(\"The number of directed edges in the network: %d\" % snap.CntUniqDirEdges(G))\n",
    "print(\"The number of undirected edges in the network : %d\" % snap.CntUniqUndirEdges(G))\n",
    "\n",
    "print(\"The number of reciprocated edges in the network: %d\" % snap.CntUniqBiDirEdges(G))\n",
    "print(\"The number of nodes of zero out-degree : %d\" % snap.CntOutDegNodes(G,0))\n",
    "print(\"The number of nodes of zero in-degree: %d\" % snap.CntInDegNodes(G,0))"
   ]
  },
  {
   "cell_type": "code",
   "execution_count": 12,
   "metadata": {},
   "outputs": [
    {
     "name": "stdout",
     "output_type": "stream",
     "text": [
      "The number of nodes with more than 10 outgoing edges : 5495\n",
      "The number of nodes with fewer than 10 incoming edges : 565950\n"
     ]
    }
   ],
   "source": [
    "#Check\n",
    "DegToCntV = snap.TIntPrV()\n",
    "snap.GetOutDegCnt(G, DegToCntV)\n",
    "countOut = 0\n",
    "for item in DegToCntV:\n",
    "    if item.GetVal1() > 10:\n",
    "        countOut += item.GetVal2()\n",
    "print(\"The number of nodes with more than 10 outgoing edges : %d\" % countOut)\n",
    "DegToCntV = snap.TIntPrV()\n",
    "snap.GetInDegCnt(G, DegToCntV)\n",
    "countIn = 0\n",
    "for item in DegToCntV:\n",
    "    if item.GetVal1() < 10:\n",
    "        countIn += item.GetVal2()\n",
    "print(\"The number of nodes with fewer than 10 incoming edges : %d\" % countIn)"
   ]
  },
  {
   "cell_type": "code",
   "execution_count": 14,
   "metadata": {},
   "outputs": [
    {
     "data": {
      "image/png": "[encoded data removed]",
      "text/plain": [
       "<Figure size 432x288 with 1 Axes>"
      ]
     },
     "metadata": {
      "needs_background": "light"
     },
     "output_type": "display_data"
    }
   ],
   "source": [
    "# 2 Further Analyzing the network \n",
    "#part1\n",
    "cntDeg = snap.TIntPrV()\n",
    "snap.GetOutDegCnt(G, cntDeg)\n",
    "fig2 = plt.figure()\n",
    "x = []\n",
    "y = []\n",
    "for i in sorted(cntDeg):\n",
    "    if i.GetVal1() != 0:\n",
    "        x.append(i.GetVal1())\n",
    "        y.append(i.GetVal2())\n",
    "fig2 = plt.plot(x, y, 'o')\n",
    "plt.xscale('log')\n",
    "plt.yscale('log')\n",
    "plt.title(\"Distribution of Out-degrees of Nodes\")\n",
    "plt.savefig(\"degDistr.png\")"
   ]
  },
  {
   "cell_type": "code",
   "execution_count": 32,
   "metadata": {},
   "outputs": [
    {
     "name": "stdout",
     "output_type": "stream",
     "text": [
      "polyfit coefficients : [-1.30930011  3.53285394]\n"
     ]
    },
    {
     "data": {
      "image/png": "[encoded data removed]",
      "text/plain": [
       "<Figure size 432x288 with 1 Axes>"
      ]
     },
     "metadata": {
      "needs_background": "light"
     },
     "output_type": "display_data"
    }
   ],
   "source": [
    "#part2\n",
    "fig2 = plt.figure()\n",
    "xLog = []\n",
    "yLog = []\n",
    "for i in sorted(cntDeg):\n",
    "    if i.GetVal1() != 0:\n",
    "        xLog.append(log(i.GetVal1(),10))\n",
    "        yLog.append(log(i.GetVal2(),10))\n",
    "pfit = np.polyfit(xLog, yLog, 1)\n",
    "print(\"polyfit coefficients :\", pfit)\n",
    "line = np.poly1d(pfit)\n",
    "fig2 = plt.plot(x,y,'o')\n",
    "\n",
    "line = pow(10, pfit[1])*pow(x,pfit[0])\n",
    "plt.plot(x, line)\n",
    "plt.xscale('log')\n",
    "plt.yscale('log')\n",
    "plt.title(\"Least Square Regression\")\n",
    "plt.savefig(\"least-squareregression.png\")"
   ]
  },
  {
   "cell_type": "code",
   "execution_count": 15,
   "metadata": {},
   "outputs": [
    {
     "name": "stdout",
     "output_type": "stream",
     "text": [
      "The number of weakly connected components in the network: 518610\n",
      "In the largest weakly connected component, the number of edges: 219296, and the number of nodes: 52468\n",
      "IDs of the top 3 most central nodes in the network by PagePank scores: 43, 85, 16\n",
      "By HITS scores, IDs of the top 3 hubs: 16, 28, 43 and top 3 authorities in the network: 16, 28, 43\n"
     ]
    }
   ],
   "source": [
    "#3 Finding Central Nodes\n",
    "Components = snap.TCnComV()\n",
    "snap.GetWccs(G, Components)\n",
    "print(\"The number of weakly connected components in the network: %d\" % Components.Len())\n",
    "\n",
    "largestComponent = snap.GetMxWcc(G)\n",
    "edges =largestComponent.GetEdges()\n",
    "nodes =largestComponent.GetNodes()\n",
    "print(\"In the largest weakly connected component, the number of edges: %d, and the number of nodes: %d\" % (edges, nodes))\n",
    "\n",
    "pageR = snap.TIntFltH()\n",
    "snap.GetPageRank(G, pageR)\n",
    "ordering = {}\n",
    "for item in pageR:\n",
    "    ordering.update({item: pageR[item]})\n",
    "sorted_hash = sorted(ordering.items(), key=lambda x: x[1], reverse = True)\n",
    "print(\"IDs of the top 3 most central nodes in the network by PagePank scores: %d, %d, %d\" % (sorted_hash[0][0],sorted_hash[1][0],sorted_hash[2][0]))\n",
    "\n",
    "hubs = snap.TIntFltH()\n",
    "auth = snap.TIntFltH()\n",
    "snap.GetHits(G, hubs, auth)\n",
    "orderingHub = {}\n",
    "for item in hubs:\n",
    "    orderingHub.update({item: hubs[item]})\n",
    "orderingAuth = {}\n",
    "for item in auth:\n",
    "    orderingAuth.update({item: auth[item]})\n",
    "sorted_hubs = sorted(orderingHub.items(), key=lambda x: x[1], reverse = True)\n",
    "sorted_auth = sorted(orderingAuth.items(), key=lambda x: x[1], reverse = True)\n",
    "print(\"By HITS scores, IDs of the top 3 hubs: %d, %d, %d and top 3 authorities in the network: %d, %d, %d\" %\n",
    "    (sorted_hubs[0][0],sorted_hubs[1][0],sorted_hubs[2][0], \n",
    "    sorted_auth[0][0],sorted_auth[1][0],sorted_auth[2][0]))"
   ]
  },
  {
   "cell_type": "code",
   "execution_count": 33,
   "metadata": {},
   "outputs": [],
   "source": [
    "#HOW TO ACTUALLY VISUALIZE THE NETWORK???\n",
    "actual = snap.TIntStrH()\n",
    "for NI in G.Nodes():\n",
    "    actual[NI.GetId()]= str(NI.GetId())\n",
    "snap.DrawGViz(G, snap.gvlDot, \"output.png\", \"\", actual)"
   ]
  },
  {
   "cell_type": "markdown",
   "metadata": {},
   "source": [
    "# From SNAP Website\n",
    "https://snap.stanford.edu/snap-1.8/doc.html"
   ]
  },
  {
   "cell_type": "code",
   "execution_count": 42,
   "metadata": {},
   "outputs": [],
   "source": [
    "# # get distribution of connected components (component size, count)\n",
    "# CntV = snap.TIntPrV()\n",
    "# # TVec(snap.TIntPr(TInt,TInt)) CntV; # vector of pairs of integers (size, count)\n",
    "# print(\"distribution of connected components: \", snap.GetWccSzCnt(G, CntV));"
   ]
  },
  {
   "cell_type": "code",
   "execution_count": 43,
   "metadata": {},
   "outputs": [],
   "source": [
    "# # get degree distribution pairs (degree, count)\n",
    "# print(\"degree distribution pairs: \",snap.GetOutDegCnt(G));"
   ]
  },
  {
   "cell_type": "code",
   "execution_count": 44,
   "metadata": {},
   "outputs": [
    {
     "ename": "SyntaxError",
     "evalue": "invalid syntax (<ipython-input-44-de3b6473a72b>, line 2)",
     "output_type": "error",
     "traceback": [
      "\u001b[0;36m  File \u001b[0;32m\"<ipython-input-44-de3b6473a72b>\"\u001b[0;36m, line \u001b[0;32m2\u001b[0m\n\u001b[0;31m    TFltV EigV; # vector of floats\u001b[0m\n\u001b[0m             ^\u001b[0m\n\u001b[0;31mSyntaxError\u001b[0m\u001b[0;31m:\u001b[0m invalid syntax\n"
     ]
    }
   ],
   "source": [
    "# # get first eigenvector of graph adjacency matrix\n",
    "# TFltV EigV; # vector of floats\n",
    "# print(\"first eigenvector: \", snap.GetEigVec(G, EigV));"
   ]
  },
  {
   "cell_type": "code",
   "execution_count": 45,
   "metadata": {},
   "outputs": [
    {
     "ename": "TypeError",
     "evalue": "GetBfsFullDiam_PUNGraph() missing 1 required positional argument: 'NTestNodes'",
     "output_type": "error",
     "traceback": [
      "\u001b[0;31m---------------------------------------------------------------------------\u001b[0m",
      "\u001b[0;31mTypeError\u001b[0m                                 Traceback (most recent call last)",
      "\u001b[0;32m<ipython-input-45-865f9b1c97bf>\u001b[0m in \u001b[0;36m<module>\u001b[0;34m\u001b[0m\n\u001b[1;32m      1\u001b[0m \u001b[0;31m# get diameter of G\u001b[0m\u001b[0;34m\u001b[0m\u001b[0;34m\u001b[0m\u001b[0;34m\u001b[0m\u001b[0m\n\u001b[0;32m----> 2\u001b[0;31m \u001b[0mprint\u001b[0m\u001b[0;34m(\u001b[0m\u001b[0;34m\"diameter of G: \"\u001b[0m\u001b[0;34m,\u001b[0m \u001b[0msnap\u001b[0m\u001b[0;34m.\u001b[0m\u001b[0mGetBfsFullDiam\u001b[0m\u001b[0;34m(\u001b[0m\u001b[0mG\u001b[0m\u001b[0;34m)\u001b[0m\u001b[0;34m)\u001b[0m\u001b[0;34m;\u001b[0m\u001b[0;34m\u001b[0m\u001b[0;34m\u001b[0m\u001b[0m\n\u001b[0m",
      "\u001b[0;32m~/anaconda3/lib/python3.7/site-packages/snap.py\u001b[0m in \u001b[0;36mGetBfsFullDiam\u001b[0;34m(tspec, *args)\u001b[0m\n\u001b[1;32m  83468\u001b[0m     \u001b[0;32mraise\u001b[0m \u001b[0mTypeError\u001b[0m\u001b[0;34m(\u001b[0m\u001b[0;34m'First argument has invalid type'\u001b[0m\u001b[0;34m)\u001b[0m\u001b[0;34m\u001b[0m\u001b[0;34m\u001b[0m\u001b[0m\n\u001b[1;32m  83469\u001b[0m \u001b[0;32mdef\u001b[0m \u001b[0mGetBfsFullDiam\u001b[0m\u001b[0;34m(\u001b[0m\u001b[0mtspec\u001b[0m\u001b[0;34m,\u001b[0m \u001b[0;34m*\u001b[0m\u001b[0margs\u001b[0m\u001b[0;34m)\u001b[0m\u001b[0;34m:\u001b[0m\u001b[0;34m\u001b[0m\u001b[0;34m\u001b[0m\u001b[0m\n\u001b[0;32m> 83470\u001b[0;31m     \u001b[0;32mif\u001b[0m \u001b[0mtype\u001b[0m\u001b[0;34m(\u001b[0m\u001b[0mtspec\u001b[0m\u001b[0;34m)\u001b[0m \u001b[0;34m==\u001b[0m \u001b[0mPUNGraph\u001b[0m\u001b[0;34m:\u001b[0m \u001b[0;32mreturn\u001b[0m \u001b[0mGetBfsFullDiam_PUNGraph\u001b[0m\u001b[0;34m(\u001b[0m\u001b[0mtspec\u001b[0m\u001b[0;34m,\u001b[0m \u001b[0;34m*\u001b[0m\u001b[0margs\u001b[0m\u001b[0;34m)\u001b[0m\u001b[0;34m\u001b[0m\u001b[0;34m\u001b[0m\u001b[0m\n\u001b[0m\u001b[1;32m  83471\u001b[0m     \u001b[0;32mif\u001b[0m \u001b[0mtype\u001b[0m\u001b[0;34m(\u001b[0m\u001b[0mtspec\u001b[0m\u001b[0;34m)\u001b[0m \u001b[0;34m==\u001b[0m \u001b[0mPUndirNet\u001b[0m\u001b[0;34m:\u001b[0m \u001b[0;32mreturn\u001b[0m \u001b[0mGetBfsFullDiam_PUndirNet\u001b[0m\u001b[0;34m(\u001b[0m\u001b[0mtspec\u001b[0m\u001b[0;34m,\u001b[0m \u001b[0;34m*\u001b[0m\u001b[0margs\u001b[0m\u001b[0;34m)\u001b[0m\u001b[0;34m\u001b[0m\u001b[0;34m\u001b[0m\u001b[0m\n\u001b[1;32m  83472\u001b[0m     \u001b[0;32mif\u001b[0m \u001b[0mtype\u001b[0m\u001b[0;34m(\u001b[0m\u001b[0mtspec\u001b[0m\u001b[0;34m)\u001b[0m \u001b[0;34m==\u001b[0m \u001b[0mPDirNet\u001b[0m\u001b[0;34m:\u001b[0m \u001b[0;32mreturn\u001b[0m \u001b[0mGetBfsFullDiam_PDirNet\u001b[0m\u001b[0;34m(\u001b[0m\u001b[0mtspec\u001b[0m\u001b[0;34m,\u001b[0m \u001b[0;34m*\u001b[0m\u001b[0margs\u001b[0m\u001b[0;34m)\u001b[0m\u001b[0;34m\u001b[0m\u001b[0;34m\u001b[0m\u001b[0m\n",
      "\u001b[0;31mTypeError\u001b[0m: GetBfsFullDiam_PUNGraph() missing 1 required positional argument: 'NTestNodes'"
     ]
    }
   ],
   "source": [
    "# # get diameter of G\n",
    "# print(\"diameter of G: \", snap.GetBfsFullDiam(G));\n"
   ]
  },
  {
   "cell_type": "code",
   "execution_count": 46,
   "metadata": {},
   "outputs": [
    {
     "name": "stdout",
     "output_type": "stream",
     "text": [
      "the number of triads:  1329278\n",
      "Clustering Coefficient:  0.01743094218900993\n"
     ]
    }
   ],
   "source": [
    "# count the number of triads in G, get the clustering coefficient of G\n",
    "print(\"the number of triads: \", snap.GetTriads(G));\n",
    "print(\"Clustering Coefficient: \", snap.GetClustCf(G));"
   ]
  },
  {
   "cell_type": "code",
   "execution_count": null,
   "metadata": {},
   "outputs": [],
   "source": []
  },
  {
   "cell_type": "code",
   "execution_count": null,
   "metadata": {},
   "outputs": [],
   "source": []
  }
 ],
 "metadata": {
  "kernelspec": {
   "display_name": "Python 3",
   "language": "python",
   "name": "python3"
  },
  "language_info": {
   "codemirror_mode": {
    "name": "ipython",
    "version": 3
   },
   "file_extension": ".py",
   "mimetype": "text/x-python",
   "name": "python",
   "nbconvert_exporter": "python",
   "pygments_lexer": "ipython3",
   "version": "3.7.4"
  }
 },
 "nbformat": 4,
 "nbformat_minor": 2
}
